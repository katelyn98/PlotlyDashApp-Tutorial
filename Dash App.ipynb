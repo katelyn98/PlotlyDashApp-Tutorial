{
 "cells": [
  {
   "cell_type": "markdown",
   "metadata": {},
   "source": [
    "# Plotly Dash App Tutorial\n",
    "\n",
    "## Import packages required\n",
    "You will need to import `plotly`, `pandas`, and `dash` for this dash app. If you don't have these packages yet, go to your terminal and install them with `pip`."
   ]
  },
  {
   "cell_type": "code",
   "execution_count": 7,
   "metadata": {},
   "outputs": [],
   "source": [
    "import plotly.express as px\n",
    "import pandas as pd\n",
    "\n",
    "import dash\n",
    "import dash_core_components as dcc\n",
    "import dash_html_components as html"
   ]
  },
  {
   "cell_type": "markdown",
   "metadata": {},
   "source": [
    "## Open the dataset\n",
    "The dataset we will be using is called `uscities.csv`. It is located in the `simplemap_data` folder in this repository. Select only the first 100 rows in the dataframe."
   ]
  },
  {
   "cell_type": "code",
   "execution_count": null,
   "metadata": {},
   "outputs": [],
   "source": [
    "df = \n",
    "df = "
   ]
  },
  {
   "cell_type": "markdown",
   "metadata": {},
   "source": [
    "## Create a scatter_geo figure\n",
    "set the `lat` parameter equal to `\"lat\"` and the `lon` parameter equal to `\"lng\"`. Set the `color` parameter equal to `\"timezone\"`. Update the layout of the figure by setting a title and the `geo_scope` to `\"usa\"`. Set the `hover_name` to be `\"city\"` or any other column name in the dataset. If you want a column's value to appear when you hover over the point, set that column to `True` else set it to `False` in `hover_data`"
   ]
  },
  {
   "cell_type": "code",
   "execution_count": null,
   "metadata": {},
   "outputs": [],
   "source": [
    "fig = px.scatter_geo(df, lat= , lon= , color= ,\n",
    "                    hover_name=\"city\",\n",
    "                    hover_data={\n",
    "                        \"lng\": ,\n",
    "                        \"timezone\": ,\n",
    "                        \"lat\": ,\n",
    "                        \"state_name\": ,\n",
    "                        \"state_id\": ,\n",
    "                        \"population\": \n",
    "                    })\n",
    "fig.update_layout(title = 'TITLE', geo_scope= )"
   ]
  },
  {
   "cell_type": "markdown",
   "metadata": {},
   "source": [
    "## Open the second dataset `gapminder()`"
   ]
  },
  {
   "cell_type": "code",
   "execution_count": null,
   "metadata": {},
   "outputs": [],
   "source": [
    "df2 = "
   ]
  },
  {
   "cell_type": "markdown",
   "metadata": {},
   "source": [
    "## Create a filled area chart `area`\n",
    "set the `x` parameter equal to `\"year\"`, `y` equal to `\"pop\"`, set the `color` parameter equal to `\"continent\"`, and set the `line_group` parameter equal to `\"country\"`. Add a range slider by updating the figure layout and setting the `type` parameter equal to `\"date\"`. See step by step code on how to add this."
   ]
  },
  {
   "cell_type": "code",
   "execution_count": null,
   "metadata": {},
   "outputs": [],
   "source": [
    "fig2 = px.area(df2, x= , y= , color= ,line_group= )\n",
    "\n",
    "## Adding range slider\n",
    "fig2.update_layout(\n",
    "    xaxis=dict(\n",
    "        rangeslider=dict(\n",
    "            visible=True\n",
    "        ),\n",
    "        type=\n",
    "    )\n",
    ")"
   ]
  },
  {
   "cell_type": "markdown",
   "metadata": {},
   "source": [
    "## Set the custom style for your Dash App\n",
    "Align the title of our dash app using the `textAlign` parameter to be `center`, choose a font for the `font-family` parameter, keep the background color the way it is. Choose a color for your text by setting the rgb value."
   ]
  },
  {
   "cell_type": "code",
   "execution_count": 5,
   "metadata": {},
   "outputs": [],
   "source": [
    "styles = { 'title': {'textAlign': ,\n",
    "        'font-family': ,\n",
    "        'background-color': 'rgb(255,255,255)',\n",
    "        'color': 'rgb(0,0,0)'} }"
   ]
  },
  {
   "cell_type": "markdown",
   "metadata": {},
   "source": [
    "## Create the dash app\n",
    "Set a title for our Dash app in the `html.H1` and style the title by setting the `style` parameter equal to `styles['title']`. Set the `figure` for the first `dcc.Graph` to `fig` and set the second `dcc.Graph` to `fig2`"
   ]
  },
  {
   "cell_type": "code",
   "execution_count": null,
   "metadata": {},
   "outputs": [
    {
     "name": "stdout",
     "output_type": "stream",
     "text": [
      "Dash is running on http://127.0.0.1:8050/\n",
      "\n",
      " * Serving Flask app \"__main__\" (lazy loading)\n",
      " * Environment: production\n",
      "\u001b[31m   WARNING: This is a development server. Do not use it in a production deployment.\u001b[0m\n",
      "\u001b[2m   Use a production WSGI server instead.\u001b[0m\n",
      " * Debug mode: on\n"
     ]
    }
   ],
   "source": [
    "app = dash.Dash()\n",
    "app.layout = html.Div([\n",
    "    html.H1(\"TITLE\", style = ),\n",
    "    #scatter_geo figure\n",
    "    dcc.Graph(figure = ),\n",
    "    #filled area chart figure\n",
    "    dcc.Graph(figure = )\n",
    "])\n",
    "\n",
    "app.run_server(debug=True, use_reloader=False)  # Turn off reloader if inside Jupyter"
   ]
  },
  {
   "cell_type": "code",
   "execution_count": null,
   "metadata": {},
   "outputs": [],
   "source": []
  }
 ],
 "metadata": {
  "kernelspec": {
   "display_name": "Python 3",
   "language": "python",
   "name": "python3"
  },
  "language_info": {
   "codemirror_mode": {
    "name": "ipython",
    "version": 3
   },
   "file_extension": ".py",
   "mimetype": "text/x-python",
   "name": "python",
   "nbconvert_exporter": "python",
   "pygments_lexer": "ipython3",
   "version": "3.8.5"
  }
 },
 "nbformat": 4,
 "nbformat_minor": 4
}
